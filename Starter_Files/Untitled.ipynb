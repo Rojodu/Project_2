{
 "cells": [
  {
   "cell_type": "code",
   "execution_count": null,
   "id": "eb1a2015",
   "metadata": {},
   "outputs": [],
   "source": [
    "campaign_df = crowdfunding_info_df.copy()\n",
    "campaign_df.head()"
   ]
  },
  {
   "cell_type": "code",
   "execution_count": null,
   "id": "54cb8776",
   "metadata": {},
   "outputs": [],
   "source": [
    "campaign_df= campaign_df.rename(columns={'blurb':'desciption','launched_at': 'launch_date','deadline':'end_date'})\n",
    "campaign_df"
   ]
  },
  {
   "cell_type": "code",
   "execution_count": null,
   "id": "21aceb2b",
   "metadata": {},
   "outputs": [],
   "source": [
    "campaign_df[['goal','pledged']]= campaign_df[['goal','pledged']].astype(float)\n",
    "campaign_df"
   ]
  },
  {
   "cell_type": "code",
   "execution_count": null,
   "id": "1c3abea6",
   "metadata": {},
   "outputs": [],
   "source": [
    "# Check the datatypes\n",
    "campaign_df.dtypes"
   ]
  },
  {
   "cell_type": "code",
   "execution_count": null,
   "id": "33a235ff",
   "metadata": {},
   "outputs": [],
   "source": [
    "# Format the launched_date and end_date columns to datetime format\n",
    "from datetime import datetime as dt\n",
    "campaign_df['launch_date']= pd.to_datetime(campaign_df['launch_date'], unit = 's').dt.normalize().dt.floor('D')\n",
    "\n",
    "campaign_df['end_date']= pd.to_datetime(campaign_df['end_date'], unit = 's').dt.normalize().dt.floor('D')\n",
    "\n",
    "campaign_df"
   ]
  },
  {
   "cell_type": "code",
   "execution_count": null,
   "id": "feecc0fe",
   "metadata": {},
   "outputs": [],
   "source": [
    "# Merge the campaign_df with the category_df on the \"category\" column and \n",
    "# the subcategory_df on the \"subcategory\" column.\n",
    "campaign_merged_df= pd.merge(campaign_df,category_df, on='category')\n",
    "campaign_merged_df=pd.merge(campaign_merged_df,subcategory_df, left_on='sub-category', right_on='subcategory')\n",
    "\n",
    "campaign_merged_df.tail(10)"
   ]
  },
  {
   "cell_type": "code",
   "execution_count": null,
   "id": "09a7f745",
   "metadata": {},
   "outputs": [],
   "source": [
    "# Drop unwanted columns\n",
    "campaign_cleaned=campaign_merged_df.drop(columns=['staff_pick','spotlight','category & sub-category','category','sub-category','subcategory'])\n",
    "campaign_cleaned"
   ]
  },
  {
   "cell_type": "code",
   "execution_count": null,
   "id": "0720ce84",
   "metadata": {},
   "outputs": [],
   "source": [
    "# Export the DataFrame as a CSV file. \n",
    "campaign_cleaned.to_csv(\"Resources/campaign.csv\", index=False)"
   ]
  }
 ],
 "metadata": {
  "kernelspec": {
   "display_name": "PythonData2",
   "language": "python",
   "name": "pythondata2"
  },
  "language_info": {
   "codemirror_mode": {
    "name": "ipython",
    "version": 3
   },
   "file_extension": ".py",
   "mimetype": "text/x-python",
   "name": "python",
   "nbconvert_exporter": "python",
   "pygments_lexer": "ipython3",
   "version": "3.9.13"
  }
 },
 "nbformat": 4,
 "nbformat_minor": 5
}
